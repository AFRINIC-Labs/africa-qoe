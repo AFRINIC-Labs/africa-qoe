{
 "cells": [
  {
   "cell_type": "code",
   "execution_count": 4,
   "metadata": {},
   "outputs": [],
   "source": [
    "import requests\n",
    "import json\n",
    "import time\n",
    "import Util as util\n",
    "import pandas as pd\n",
    "import _thread\n",
    "\n",
    "\n",
    "headers = {'content-type':\"application/json\", \n",
    "          'accept':'application/json',\n",
    "          'apikey': util.apikey\n",
    "         }\n",
    "africa_bound_box = {\"MinLatitude\": -47.131349, \"MaxLatitude\": 37.535900,\n",
    "                    \"MinLongitude\": -25.383911, \"MaxLongitude\": 63.808594 }\n",
    "\n",
    "new_probe_body = {\"criteria\":{\"FromXMinutes\": 15, \"Sources\":[{\"BoundingBox\":africa_bound_box}],\n",
    "                    \"ProbeInfoProperties\":[\"Latitude\",\"Longitude\",\"ProbeID\",\"Platform\",\"CountryCode\",\"CityName\"]}\n",
    "       }\n",
    "\n",
    "get_probes = util.api_url + 'GetNewProbes'"
   ]
  },
  {
   "cell_type": "code",
   "execution_count": 45,
   "metadata": {},
   "outputs": [],
   "source": [
    "videos = ['MQ7C-gO4QKA','76EErDmwrUY']\n",
    "vdo_test_ep= util.api_url + 'StartVideoTest'\n",
    "df = pd.DataFrame()\n",
    "probe_info_properties = [\"ASN\", \"IPAddress\", \"Network\", \"ConnectionType\", \"Platform\", \"Screensize\", \"DNSResolver\",\n",
    "                         \"Latitude\", \"Longitude\", \"ProbeID\", \"CountryCode\", \"CityName\", \"NetworkID\", 'Screensize' ]\n",
    "\n",
    "# check probe availability in a country \n",
    "def is_probe_avil(cc):\n",
    "    new_probe_body_cc = {\"criteria\":{\"FromXMinutes\": 15,\"Sources\":[{\"CountryCode\":cc}],\n",
    "                        \"ProbeInfoProperties\":[\"ProbeID\",\"Platform\"]}\n",
    "           }\n",
    "    probe_request = requests.post(get_probes, headers=headers, data = json.dumps(new_probe_body_cc))\n",
    "    probe_result = probe_request.json()\n",
    "    num_probe = util.check_probe_in_cc(probe_result)\n",
    "    \n",
    "    return(num_probe)\n",
    "    \n",
    "\n",
    "def run_video_expr(cc):\n",
    "    col = [\n",
    "        'test_status', 'test_date', 'DurationOfEachRebuffering', 'VideoID', 'VideoPlayDuration',\n",
    "        'VideoPlayFinishEvent', 'VideoResolution', 'InitialBufferingStartupLatency','RebufferingTimes',\n",
    "        'VideoDownloadSpeed', 'ASN','CityName', 'ConnectionType', 'CountryCode', 'DNSResolver', 'IPAddress',\n",
    "        'Latitude', 'Longitude', 'Network', 'NetworkID', 'Platform', 'ProbeID' \n",
    "    ]\n",
    "    num_probes = is_probe_avil(cc)\n",
    "    print(num_probes)\n",
    "    \n",
    "    if num_probes < 1:\n",
    "        print('No probe available')\n",
    "        sys.exit()\n",
    "    for video in videos:\n",
    "        video_test_body = {\n",
    "          \"testSettings\": {\n",
    "            \"VideoUrl\": \"http://pcsucdn.com/YoutubeVideoTest.html?v=\" + video,\n",
    "            \"VideoControlScript\": \"Youtube4.js\",\n",
    "            \"TestCount\": 5,\n",
    "            \"Sources\": [\n",
    "              {\n",
    "                \"CountryCode\": cc\n",
    "              }\n",
    "            ],\n",
    "            \"ProbeInfoProperties\": probe_info_properties,\n",
    "            \"TestResultProperties\": [\n",
    "              \"VideoDownloadSpeed\"\n",
    "            ]\n",
    "          }\n",
    "        }\n",
    "\n",
    "        vdo_request = requests.post(vdo_test_ep, headers=headers, data = json.dumps(video_test_body))\n",
    "        vdo_request_result = vdo_request.json()\n",
    "        status = vdo_request_result['StartVideoTestResult']['Status']['StatusCode']\n",
    "        test_id = vdo_request_result['StartVideoTestResult']['TestID']\n",
    "\n",
    "        # wait for 20 seconds to retrieve the results\n",
    "        time.sleep(120)\n",
    "        if int(status) != 200:\n",
    "            print(\"there is something wrong in this test, and continue to the next ...\")\n",
    "            continue\n",
    "        vdo_result = util.retrieve_video_result(test_id)\n",
    "\n",
    "        results_lst = util.result_to_csv(vdo_result)\n",
    "        _df = pd.DataFrame.from_dict(results_lst)\n",
    "        _df = _df[col]\n",
    "        _df.to_csv('../dataset/2019-africa-youtube/africa-youtube.csv', sep=',', mode='a', \n",
    "                   header = False, index=False, encoding = \"ISO-8859-1\")"
   ]
  },
  {
   "cell_type": "code",
   "execution_count": 46,
   "metadata": {},
   "outputs": [
    {
     "name": "stderr",
     "output_type": "stream",
     "text": [
      "Unhandled exception in thread started by <function run_vide_expr at 0x7f02747d2f28>\n"
     ]
    },
    {
     "name": "stdout",
     "output_type": "stream",
     "text": [
      "No probe available\n",
      "No probe available\n",
      "No probe available\n",
      "No probe available\n",
      "No probe available\n",
      "No probe available\n",
      "No probe available\n",
      "No probe available\n",
      "No probe available\n",
      "No probe available\n",
      "No probe available\n",
      "No probe available\n",
      "No probe available\n",
      "No probe available\n",
      "No probe available\n",
      "No probe available\n",
      "No probe available\n",
      "No probe available\n",
      "No probe available\n",
      "No probe available\n",
      "No probe available\n",
      "No probe available\n",
      "No probe available\n",
      "No probe available\n"
     ]
    },
    {
     "name": "stderr",
     "output_type": "stream",
     "text": [
      "Unhandled exception in thread started by <function run_vide_expr at 0x7f02747d2f28>\n",
      "Unhandled exception in thread started by Unhandled exception in thread started by <function run_vide_expr at 0x7f02747d2f28>\n",
      "Unhandled exception in thread started by <function run_vide_expr at 0x7f02747d2f28>\n",
      "Unhandled exception in thread started by <function run_vide_expr at 0x7f02747d2f28>\n",
      "<function run_vide_expr at 0x7f02747d2f28>\n",
      "Unhandled exception in thread started by Unhandled exception in thread started by Unhandled exception in thread started by <function run_vide_expr at 0x7f02747d2f28>\n",
      "<function run_vide_expr at 0x7f02747d2f28>\n",
      "Unhandled exception in thread started by <function run_vide_expr at 0x7f02747d2f28>\n",
      "<function run_vide_expr at 0x7f02747d2f28>\n",
      "Unhandled exception in thread started by <function run_vide_expr at 0x7f02747d2f28>\n",
      "Unhandled exception in thread started by <function run_vide_expr at 0x7f02747d2f28>\n",
      "Unhandled exception in thread started by <function run_vide_expr at 0x7f02747d2f28>\n",
      "Unhandled exception in thread started by <function run_vide_expr at 0x7f02747d2f28>\n",
      "Unhandled exception in thread started by <function run_vide_expr at 0x7f02747d2f28>\n",
      "Unhandled exception in thread started by <function run_vide_expr at 0x7f02747d2f28>\n",
      "Unhandled exception in thread started by <function run_vide_expr at 0x7f02747d2f28>\n",
      "Unhandled exception in thread started by <function run_vide_expr at 0x7f02747d2f28>\n",
      "Unhandled exception in thread started by <function run_vide_expr at 0x7f02747d2f28>\n",
      "Unhandled exception in thread started by <function run_vide_expr at 0x7f02747d2f28>\n",
      "Unhandled exception in thread started by <function run_vide_expr at 0x7f02747d2f28>\n",
      "Unhandled exception in thread started by <function run_vide_expr at 0x7f02747d2f28>\n",
      "Unhandled exception in thread started by <function run_vide_expr at 0x7f02747d2f28>\n",
      "Unhandled exception in thread started by <function run_vide_expr at 0x7f02747d2f28>\n"
     ]
    },
    {
     "name": "stdout",
     "output_type": "stream",
     "text": [
      "No probe available\n",
      "No probe available\n",
      "No probe available\n",
      "No probe available\n",
      "No probe available\n",
      "No probe available\n",
      "No probe available\n",
      "No probe available\n",
      "No probe available\n",
      "No probe available\n",
      "No probe available\n",
      "No probe available\n",
      "No probe available\n"
     ]
    },
    {
     "name": "stderr",
     "output_type": "stream",
     "text": [
      "Unhandled exception in thread started by <function run_vide_expr at 0x7f02747d2f28>\n",
      "Unhandled exception in thread started by <function run_vide_expr at 0x7f02747d2f28>\n",
      "Unhandled exception in thread started by <function run_vide_expr at 0x7f02747d2f28>\n",
      "Unhandled exception in thread started by <function run_vide_expr at 0x7f02747d2f28>\n",
      "Unhandled exception in thread started by <function run_vide_expr at 0x7f02747d2f28>\n",
      "Unhandled exception in thread started by <function run_vide_expr at 0x7f02747d2f28>\n",
      "Unhandled exception in thread started by <function run_vide_expr at 0x7f02747d2f28>\n",
      "Unhandled exception in thread started by <function run_vide_expr at 0x7f02747d2f28>\n",
      "Unhandled exception in thread started by <function run_vide_expr at 0x7f02747d2f28>\n",
      "Unhandled exception in thread started by <function run_vide_expr at 0x7f02747d2f28>\n",
      "Unhandled exception in thread started by <function run_vide_expr at 0x7f02747d2f28>\n",
      "Unhandled exception in thread started by <function run_vide_expr at 0x7f02747d2f28>\n",
      "Unhandled exception in thread started by <function run_vide_expr at 0x7f02747d2f28>\n"
     ]
    },
    {
     "name": "stdout",
     "output_type": "stream",
     "text": [
      "No probe available\n",
      "No probe available\n",
      "No probe available\n"
     ]
    },
    {
     "name": "stderr",
     "output_type": "stream",
     "text": [
      "Unhandled exception in thread started by <function run_vide_expr at 0x7f02747d2f28>\n",
      "Unhandled exception in thread started by <function run_vide_expr at 0x7f02747d2f28>\n",
      "Unhandled exception in thread started by <function run_vide_expr at 0x7f02747d2f28>\n"
     ]
    },
    {
     "name": "stdout",
     "output_type": "stream",
     "text": [
      "No probe available\n"
     ]
    },
    {
     "name": "stderr",
     "output_type": "stream",
     "text": [
      "Unhandled exception in thread started by <function run_vide_expr at 0x7f02747d2f28>\n",
      "Unhandled exception in thread started by <function run_vide_expr at 0x7f02747d2f28>\n",
      "Unhandled exception in thread started by <function run_vide_expr at 0x7f02747d2f28>\n",
      "Unhandled exception in thread started by <function run_vide_expr at 0x7f02747d2f28>\n",
      "Unhandled exception in thread started by <function run_vide_expr at 0x7f02747d2f28>\n",
      "Unhandled exception in thread started by <function run_vide_expr at 0x7f02747d2f28>\n",
      "Unhandled exception in thread started by <function run_vide_expr at 0x7f02747d2f28>\n",
      "Unhandled exception in thread started by <function run_vide_expr at 0x7f02747d2f28>\n",
      "Unhandled exception in thread started by <function run_vide_expr at 0x7f02747d2f28>\n",
      "Unhandled exception in thread started by <function run_vide_expr at 0x7f02747d2f28>\n",
      "Unhandled exception in thread started by <function run_vide_expr at 0x7f02747d2f28>\n",
      "Unhandled exception in thread started by <function run_vide_expr at 0x7f02747d2f28>\n",
      "Unhandled exception in thread started by <function run_vide_expr at 0x7f02747d2f28>\n",
      "Unhandled exception in thread started by <function run_vide_expr at 0x7f02747d2f28>\n",
      "Unhandled exception in thread started by <function run_vide_expr at 0x7f02747d2f28>\n",
      "Unhandled exception in thread started by <function run_vide_expr at 0x7f02747d2f28>\n",
      "Unhandled exception in thread started by <function run_vide_expr at 0x7f02747d2f28>\n",
      "Unhandled exception in thread started by <function run_vide_expr at 0x7f02747d2f28>\n",
      "Unhandled exception in thread started by <function run_vide_expr at 0x7f02747d2f28>\n",
      "Unhandled exception in thread started by <function run_vide_expr at 0x7f02747d2f28>\n",
      "Unhandled exception in thread started by <function run_vide_expr at 0x7f02747d2f28>\n",
      "Unhandled exception in thread started by <function run_vide_expr at 0x7f02747d2f28>\n",
      "Unhandled exception in thread started by <function run_vide_expr at 0x7f02747d2f28>\n",
      "Unhandled exception in thread started by <function run_vide_expr at 0x7f02747d2f28>\n",
      "Unhandled exception in thread started by <function run_vide_expr at 0x7f02747d2f28>\n",
      "Unhandled exception in thread started by <function run_vide_expr at 0x7f02747d2f28>\n",
      "Unhandled exception in thread started by <function run_vide_expr at 0x7f02747d2f28>\n",
      "Unhandled exception in thread started by <function run_vide_expr at 0x7f02747d2f28>\n",
      "Unhandled exception in thread started by <function run_vide_expr at 0x7f02747d2f28>\n",
      "Unhandled exception in thread started by <function run_vide_expr at 0x7f02747d2f28>\n",
      "Unhandled exception in thread started by <function run_vide_expr at 0x7f02747d2f28>\n",
      "Unhandled exception in thread started by <function run_vide_expr at 0x7f02747d2f28>\n",
      "Unhandled exception in thread started by <function run_vide_expr at 0x7f02747d2f28>\n"
     ]
    }
   ],
   "source": [
    "# Define a function for the thread\n",
    "def print_time( threadName, delay):\n",
    "    count = 0\n",
    "    while count < 1:\n",
    "        time.sleep(delay)\n",
    "        count += 1\n",
    "        print (\"%s: %s\" % ( threadName, time.ctime(time.time()) ))\n",
    "\n",
    "for cc in util.ccs_video.keys():\n",
    "    try:\n",
    "        _thread.start_new_thread(run_vide_expr, (cc,))\n",
    "    except Exception as e:\n",
    "        print(\"Error: unable to start thread\")\n",
    "#         print(e)\n"
   ]
  },
  {
   "cell_type": "code",
   "execution_count": 26,
   "metadata": {},
   "outputs": [
    {
     "ename": "NameError",
     "evalue": "name 'vdo_result' is not defined",
     "output_type": "error",
     "traceback": [
      "\u001b[0;31m---------------------------------------------------------------------------\u001b[0m",
      "\u001b[0;31mNameError\u001b[0m                                 Traceback (most recent call last)",
      "\u001b[0;32m<ipython-input-26-86078d816981>\u001b[0m in \u001b[0;36m<module>\u001b[0;34m()\u001b[0m\n\u001b[0;32m----> 1\u001b[0;31m \u001b[0mvdo_result\u001b[0m\u001b[0;34m\u001b[0m\u001b[0m\n\u001b[0m",
      "\u001b[0;31mNameError\u001b[0m: name 'vdo_result' is not defined"
     ]
    }
   ],
   "source": [
    "vdo_result"
   ]
  },
  {
   "cell_type": "code",
   "execution_count": null,
   "metadata": {},
   "outputs": [],
   "source": [
    "new_probe_body_cc = {\"criteria\":{\"FromXMinutes\": 15,\"Sources\":[{\"CountryCode\":'UK'}],\n",
    "                        \"ProbeInfoProperties\":[\"ProbeID\",\"Platform\",\"CountryCode\"]}\n",
    "           }\n",
    "probe_request = requests.post(get_probes, headers=headers, data = json.dumps(new_probe_body_cc))\n",
    "probe_result = probe_request.json()\n",
    "num_probe = util.check_probe_in_cc(probe_result)"
   ]
  },
  {
   "cell_type": "code",
   "execution_count": null,
   "metadata": {},
   "outputs": [],
   "source": [
    "num_probe"
   ]
  },
  {
   "cell_type": "code",
   "execution_count": null,
   "metadata": {},
   "outputs": [],
   "source": []
  }
 ],
 "metadata": {
  "kernelspec": {
   "display_name": "Python 3",
   "language": "python",
   "name": "python3"
  },
  "language_info": {
   "codemirror_mode": {
    "name": "ipython",
    "version": 3
   },
   "file_extension": ".py",
   "mimetype": "text/x-python",
   "name": "python",
   "nbconvert_exporter": "python",
   "pygments_lexer": "ipython3",
   "version": "3.6.5"
  }
 },
 "nbformat": 4,
 "nbformat_minor": 2
}
