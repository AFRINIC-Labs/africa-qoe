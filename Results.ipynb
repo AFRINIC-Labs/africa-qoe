{
 "cells": [
  {
   "cell_type": "code",
   "execution_count": 1,
   "metadata": {},
   "outputs": [],
   "source": [
    "import requests\n",
    "import json\n",
    "import time\n",
    "from datetime import date\n",
    "import Utils as utils\n",
    "import pandas as pd\n",
    "import _thread"
   ]
  },
  {
   "cell_type": "code",
   "execution_count": 8,
   "metadata": {},
   "outputs": [
    {
     "name": "stdout",
     "output_type": "stream",
     "text": [
      "{'ResponseStatus': {'StatusCode': '200', 'StatusText': 'Test finished, you can retreive results now'}, 'VideoTestResults': [{'ProbeInfo': {'ASN': 37545, 'CityName': '', 'ConnectionType': 'Wireless80211,Ethernet,Ethernet', 'CountryCode': 'BI', 'DNSResolver': '41.79.227.136', 'GeolocationAccuracy': 1000, 'IPAddress': '41.79.224.10', 'Latitude': -3.39, 'Longitude': 29.37, 'Network': 'BBSS', 'NetworkID': 7278, 'Platform': 'PC', 'ProbeID': 'e078462a-e8dc-4d49-9d4f-14d72fee451b', 'Screensize': '1366x768', 'Version': '1.0.46.1'}, 'TestDateTime': '/Date(1558670202796+0000)/', 'TestStatus': {'StatusCode': '200', 'StatusText': 'OK'}, 'DurationOfEachRebuffering': '', 'InitialBufferingStartupLatency': None, 'RebufferingTimes': 0, 'VideoDownloadSpeed': -1, 'VideoHostname': 'pcsucdn.com', 'VideoID': 'Tg0yfKQQVF4SMALL_RES', 'VideoPlayDuration': 0, 'VideoPlayFinishEvent': 'unstarted', 'VideoResolution': '1920x1080'}]}\n"
     ]
    },
    {
     "data": {
      "text/plain": [
       "[{'ProbeInfo': {'ASN': 37545,\n",
       "   'CityName': '',\n",
       "   'ConnectionType': 'Wireless80211,Ethernet,Ethernet',\n",
       "   'CountryCode': 'BI',\n",
       "   'DNSResolver': '41.79.227.136',\n",
       "   'GeolocationAccuracy': 1000,\n",
       "   'IPAddress': '41.79.224.10',\n",
       "   'Latitude': -3.39,\n",
       "   'Longitude': 29.37,\n",
       "   'Network': 'BBSS',\n",
       "   'NetworkID': 7278,\n",
       "   'Platform': 'PC',\n",
       "   'ProbeID': 'e078462a-e8dc-4d49-9d4f-14d72fee451b',\n",
       "   'Screensize': '1366x768',\n",
       "   'Version': '1.0.46.1'},\n",
       "  'TestDateTime': '/Date(1558670202796+0000)/',\n",
       "  'TestStatus': {'StatusCode': '200', 'StatusText': 'OK'},\n",
       "  'DurationOfEachRebuffering': '',\n",
       "  'InitialBufferingStartupLatency': None,\n",
       "  'RebufferingTimes': 0,\n",
       "  'VideoDownloadSpeed': -1,\n",
       "  'VideoHostname': 'pcsucdn.com',\n",
       "  'VideoID': 'Tg0yfKQQVF4SMALL_RES',\n",
       "  'VideoPlayDuration': 0,\n",
       "  'VideoPlayFinishEvent': 'unstarted',\n",
       "  'VideoResolution': '1920x1080'}]"
      ]
     },
     "execution_count": 8,
     "metadata": {},
     "output_type": "execute_result"
    }
   ],
   "source": [
    "utils.retrieveVideoTestResults('c0df40c1-7f8a-41ad-8a6c-38ca67c868f3')"
   ]
  },
  {
   "cell_type": "code",
   "execution_count": null,
   "metadata": {},
   "outputs": [],
   "source": []
  }
 ],
 "metadata": {
  "kernelspec": {
   "display_name": "Python 3",
   "language": "python",
   "name": "python3"
  },
  "language_info": {
   "codemirror_mode": {
    "name": "ipython",
    "version": 3
   },
   "file_extension": ".py",
   "mimetype": "text/x-python",
   "name": "python",
   "nbconvert_exporter": "python",
   "pygments_lexer": "ipython3",
   "version": "3.6.5"
  }
 },
 "nbformat": 4,
 "nbformat_minor": 2
}
