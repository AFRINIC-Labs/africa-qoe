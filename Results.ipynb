{
 "cells": [
  {
   "cell_type": "code",
   "execution_count": 1,
   "metadata": {},
   "outputs": [],
   "source": [
    "import requests\n",
    "import json\n",
    "import time\n",
    "from datetime import date\n",
    "import Utils as utils\n",
    "import pandas as pd\n",
    "import _thread"
   ]
  },
  {
   "cell_type": "code",
   "execution_count": 5,
   "metadata": {},
   "outputs": [
    {
     "name": "stdout",
     "output_type": "stream",
     "text": [
      "{'ResponseStatus': {'StatusCode': '200', 'StatusText': 'Test finished, you can retreive results now'}, 'VideoTestResults': [{'ProbeInfo': {'ProbeID': '821a6fd2-19bb-4491-95ad-d42f944e3904'}, 'TestDateTime': '/Date(1560320017751)/', 'TestStatus': {'StatusCode': '506', 'StatusText': 'Probe is inactive (sleep mode)'}, 'DurationOfEachRebuffering': None, 'InitialBufferingStartupLatency': None, 'RebufferingTimes': None, 'VideoHostname': None, 'VideoID': None, 'VideoPlayDuration': None, 'VideoPlayFinishEvent': None, 'VideoResolution': None}]}\n"
     ]
    },
    {
     "data": {
      "text/plain": [
       "[{'ProbeInfo': {'ProbeID': '821a6fd2-19bb-4491-95ad-d42f944e3904'},\n",
       "  'TestDateTime': '/Date(1560320017751)/',\n",
       "  'TestStatus': {'StatusCode': '506',\n",
       "   'StatusText': 'Probe is inactive (sleep mode)'},\n",
       "  'DurationOfEachRebuffering': None,\n",
       "  'InitialBufferingStartupLatency': None,\n",
       "  'RebufferingTimes': None,\n",
       "  'VideoHostname': None,\n",
       "  'VideoID': None,\n",
       "  'VideoPlayDuration': None,\n",
       "  'VideoPlayFinishEvent': None,\n",
       "  'VideoResolution': None}]"
      ]
     },
     "execution_count": 5,
     "metadata": {},
     "output_type": "execute_result"
    }
   ],
   "source": [
    "utils.retrieveVideoTestResults('c68c9af9-eb7a-4710-bcd6-28761c72cf6b')"
   ]
  },
  {
   "cell_type": "code",
   "execution_count": null,
   "metadata": {},
   "outputs": [],
   "source": []
  }
 ],
 "metadata": {
  "kernelspec": {
   "display_name": "Python 3",
   "language": "python",
   "name": "python3"
  },
  "language_info": {
   "codemirror_mode": {
    "name": "ipython",
    "version": 3
   },
   "file_extension": ".py",
   "mimetype": "text/x-python",
   "name": "python",
   "nbconvert_exporter": "python",
   "pygments_lexer": "ipython3",
   "version": "3.6.5"
  }
 },
 "nbformat": 4,
 "nbformat_minor": 2
}
